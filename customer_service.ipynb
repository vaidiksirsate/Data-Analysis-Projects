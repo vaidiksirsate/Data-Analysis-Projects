{
 "cells": [
  {
   "cell_type": "markdown",
   "id": "7bec4813",
   "metadata": {},
   "source": [
    "# Data Cleaning (Customer_Service Dataset)"
   ]
  },
  {
   "cell_type": "code",
   "execution_count": 2,
   "id": "9a3491b4",
   "metadata": {},
   "outputs": [],
   "source": [
    "# import necessory libraries\n",
    "\n",
    "import numpy as np\n",
    "import pandas as pd\n",
    "import datetime as datetime\n",
    "import matplotlib.pyplot as plt\n",
    "import seaborn as sns\n",
    "import random as random"
   ]
  },
  {
   "cell_type": "code",
   "execution_count": 224,
   "id": "d66fbe86",
   "metadata": {},
   "outputs": [],
   "source": [
    "# load dataset in jupitor notebook\n",
    "\n",
    "data = pd.read_csv(\"C:\\\\Users\\\\vaidi\\\\Desktop\\\\Call_Center.csv\")"
   ]
  },
  {
   "cell_type": "code",
   "execution_count": 225,
   "id": "254124d6",
   "metadata": {},
   "outputs": [
    {
     "data": {
      "text/html": [
       "<div>\n",
       "<style scoped>\n",
       "    .dataframe tbody tr th:only-of-type {\n",
       "        vertical-align: middle;\n",
       "    }\n",
       "\n",
       "    .dataframe tbody tr th {\n",
       "        vertical-align: top;\n",
       "    }\n",
       "\n",
       "    .dataframe thead th {\n",
       "        text-align: right;\n",
       "    }\n",
       "</style>\n",
       "<table border=\"1\" class=\"dataframe\">\n",
       "  <thead>\n",
       "    <tr style=\"text-align: right;\">\n",
       "      <th></th>\n",
       "      <th>id</th>\n",
       "      <th>customer_name</th>\n",
       "      <th>sentiment</th>\n",
       "      <th>csat_score</th>\n",
       "      <th>call_timestamp</th>\n",
       "      <th>reason</th>\n",
       "      <th>city</th>\n",
       "      <th>state</th>\n",
       "      <th>channel</th>\n",
       "      <th>response_time</th>\n",
       "      <th>call duration in minutes</th>\n",
       "      <th>call_center</th>\n",
       "    </tr>\n",
       "  </thead>\n",
       "  <tbody>\n",
       "    <tr>\n",
       "      <th>0</th>\n",
       "      <td>DKK-57076809-w-055481-fU</td>\n",
       "      <td>Analise Gairdner</td>\n",
       "      <td>Neutral</td>\n",
       "      <td>7.0</td>\n",
       "      <td>10/29/2020</td>\n",
       "      <td>Billing Question</td>\n",
       "      <td>Detroit</td>\n",
       "      <td>Michigan</td>\n",
       "      <td>Call-Center</td>\n",
       "      <td>Within SLA</td>\n",
       "      <td>17</td>\n",
       "      <td>Los Angeles/CA</td>\n",
       "    </tr>\n",
       "    <tr>\n",
       "      <th>1</th>\n",
       "      <td>QGK-72219678-w-102139-KY</td>\n",
       "      <td>Crichton Kidsley</td>\n",
       "      <td>Very Positive</td>\n",
       "      <td>NaN</td>\n",
       "      <td>10/05/2020</td>\n",
       "      <td>Service Outage</td>\n",
       "      <td>Spartanburg</td>\n",
       "      <td>South Carolina</td>\n",
       "      <td>Chatbot</td>\n",
       "      <td>Within SLA</td>\n",
       "      <td>23</td>\n",
       "      <td>Baltimore/MD</td>\n",
       "    </tr>\n",
       "    <tr>\n",
       "      <th>2</th>\n",
       "      <td>GYJ-30025932-A-023015-LD</td>\n",
       "      <td>Averill Brundrett</td>\n",
       "      <td>Negative</td>\n",
       "      <td>NaN</td>\n",
       "      <td>10/04/2020</td>\n",
       "      <td>Billing Question</td>\n",
       "      <td>Gainesville</td>\n",
       "      <td>Florida</td>\n",
       "      <td>Call-Center</td>\n",
       "      <td>Above SLA</td>\n",
       "      <td>45</td>\n",
       "      <td>Los Angeles/CA</td>\n",
       "    </tr>\n",
       "    <tr>\n",
       "      <th>3</th>\n",
       "      <td>ZJI-96807559-i-620008-m7</td>\n",
       "      <td>Noreen Lafflina</td>\n",
       "      <td>Very Negative</td>\n",
       "      <td>1.0</td>\n",
       "      <td>10/17/2020</td>\n",
       "      <td>Billing Question</td>\n",
       "      <td>Portland</td>\n",
       "      <td>Oregon</td>\n",
       "      <td>Chatbot</td>\n",
       "      <td>Within SLA</td>\n",
       "      <td>12</td>\n",
       "      <td>Los Angeles/CA</td>\n",
       "    </tr>\n",
       "    <tr>\n",
       "      <th>4</th>\n",
       "      <td>DDU-69451719-O-176482-Fm</td>\n",
       "      <td>Toma Van der Beken</td>\n",
       "      <td>Very Positive</td>\n",
       "      <td>NaN</td>\n",
       "      <td>10/17/2020</td>\n",
       "      <td>Payments</td>\n",
       "      <td>Fort Wayne</td>\n",
       "      <td>Indiana</td>\n",
       "      <td>Call-Center</td>\n",
       "      <td>Within SLA</td>\n",
       "      <td>23</td>\n",
       "      <td>Los Angeles/CA</td>\n",
       "    </tr>\n",
       "  </tbody>\n",
       "</table>\n",
       "</div>"
      ],
      "text/plain": [
       "                         id       customer_name      sentiment  csat_score  \\\n",
       "0  DKK-57076809-w-055481-fU    Analise Gairdner        Neutral         7.0   \n",
       "1  QGK-72219678-w-102139-KY    Crichton Kidsley  Very Positive         NaN   \n",
       "2  GYJ-30025932-A-023015-LD   Averill Brundrett       Negative         NaN   \n",
       "3  ZJI-96807559-i-620008-m7     Noreen Lafflina  Very Negative         1.0   \n",
       "4  DDU-69451719-O-176482-Fm  Toma Van der Beken  Very Positive         NaN   \n",
       "\n",
       "  call_timestamp            reason         city           state      channel  \\\n",
       "0     10/29/2020  Billing Question      Detroit        Michigan  Call-Center   \n",
       "1     10/05/2020    Service Outage  Spartanburg  South Carolina      Chatbot   \n",
       "2     10/04/2020  Billing Question  Gainesville         Florida  Call-Center   \n",
       "3     10/17/2020  Billing Question     Portland          Oregon      Chatbot   \n",
       "4     10/17/2020          Payments   Fort Wayne         Indiana  Call-Center   \n",
       "\n",
       "  response_time  call duration in minutes     call_center  \n",
       "0    Within SLA                        17  Los Angeles/CA  \n",
       "1    Within SLA                        23    Baltimore/MD  \n",
       "2     Above SLA                        45  Los Angeles/CA  \n",
       "3    Within SLA                        12  Los Angeles/CA  \n",
       "4    Within SLA                        23  Los Angeles/CA  "
      ]
     },
     "execution_count": 225,
     "metadata": {},
     "output_type": "execute_result"
    }
   ],
   "source": [
    "# let's check our dataset\n",
    "\n",
    "data.head()"
   ]
  },
  {
   "cell_type": "code",
   "execution_count": 226,
   "id": "7cc112c5",
   "metadata": {},
   "outputs": [
    {
     "name": "stdout",
     "output_type": "stream",
     "text": [
      "<class 'pandas.core.frame.DataFrame'>\n",
      "RangeIndex: 32941 entries, 0 to 32940\n",
      "Data columns (total 12 columns):\n",
      " #   Column                    Non-Null Count  Dtype  \n",
      "---  ------                    --------------  -----  \n",
      " 0   id                        32941 non-null  object \n",
      " 1   customer_name             32941 non-null  object \n",
      " 2   sentiment                 32941 non-null  object \n",
      " 3   csat_score                12271 non-null  float64\n",
      " 4   call_timestamp            32941 non-null  object \n",
      " 5   reason                    32941 non-null  object \n",
      " 6   city                      32941 non-null  object \n",
      " 7   state                     32941 non-null  object \n",
      " 8   channel                   32941 non-null  object \n",
      " 9   response_time             32941 non-null  object \n",
      " 10  call duration in minutes  32941 non-null  int64  \n",
      " 11  call_center               32941 non-null  object \n",
      "dtypes: float64(1), int64(1), object(10)\n",
      "memory usage: 3.0+ MB\n"
     ]
    }
   ],
   "source": [
    "# Get information about the dataset\n",
    "\n",
    "data.info()"
   ]
  },
  {
   "cell_type": "markdown",
   "id": "047574e5",
   "metadata": {},
   "source": [
    "#### In this dataset :\n",
    "\n",
    "* We have 12 fields and 32941 records.\n",
    "* csat_score has missing value and has float64 datatype.\n",
    "* call_timestamp field contains dates but has object datatype."
   ]
  },
  {
   "cell_type": "markdown",
   "id": "7ec8d87b",
   "metadata": {},
   "source": [
    "# A). Data Cleaning"
   ]
  },
  {
   "cell_type": "markdown",
   "id": "7f6f2495",
   "metadata": {},
   "source": [
    "### 1). Missing Values"
   ]
  },
  {
   "cell_type": "code",
   "execution_count": 227,
   "id": "ce2cca22",
   "metadata": {},
   "outputs": [
    {
     "name": "stdout",
     "output_type": "stream",
     "text": [
      "id                              0\n",
      "customer_name                   0\n",
      "sentiment                       0\n",
      "csat_score                  20670\n",
      "call_timestamp                  0\n",
      "reason                          0\n",
      "city                            0\n",
      "state                           0\n",
      "channel                         0\n",
      "response_time                   0\n",
      "call duration in minutes        0\n",
      "call_center                     0\n",
      "dtype: int64 \n",
      "\n",
      " id                           0.0\n",
      "customer_name                0.0\n",
      "sentiment                    0.0\n",
      "csat_score                  63.0\n",
      "call_timestamp               0.0\n",
      "reason                       0.0\n",
      "city                         0.0\n",
      "state                        0.0\n",
      "channel                      0.0\n",
      "response_time                0.0\n",
      "call duration in minutes     0.0\n",
      "call_center                  0.0\n",
      "dtype: float64\n"
     ]
    }
   ],
   "source": [
    "# number of missing records in each column\n",
    "\n",
    "miss_values = data.isna().sum()\n",
    "miss_percent = round((data.isna().sum()/data.shape[0])*100)\n",
    "\n",
    "print(miss_values, '\\n\\n', miss_percent)"
   ]
  },
  {
   "cell_type": "markdown",
   "id": "8d6343e1",
   "metadata": {},
   "source": [
    "* Only csat_score column has missing records but the number is huge 20,670 and in percentage terms 63% data is missing, which is huge and usually we drop any field with missing records more than 15%. But this is dummy data and it's a very important column in customer service alysis, so we will add some random records inplace of missing data.\n"
   ]
  },
  {
   "cell_type": "code",
   "execution_count": 21,
   "id": "2303d770",
   "metadata": {},
   "outputs": [
    {
     "data": {
      "text/plain": [
       "0    7.0\n",
       "1    NaN\n",
       "2    NaN\n",
       "3    1.0\n",
       "4    NaN\n",
       "Name: csat_score, dtype: float64"
      ]
     },
     "execution_count": 21,
     "metadata": {},
     "output_type": "execute_result"
    }
   ],
   "source": [
    "data['csat_score'].head()"
   ]
  },
  {
   "cell_type": "markdown",
   "id": "65c1be0f",
   "metadata": {},
   "source": [
    "* First convert the datatype from float64 to int, because we have to add random integer value. And, it's not possible to convert loat value to integer when it has \"na, nan etc.\" values. So, first replace nan value with 0."
   ]
  },
  {
   "cell_type": "code",
   "execution_count": 31,
   "id": "669d578f",
   "metadata": {},
   "outputs": [],
   "source": [
    "# replace nan value with 0\n",
    "\n",
    "data['csat_score'].replace(np.nan, 0, inplace = True)"
   ]
  },
  {
   "cell_type": "code",
   "execution_count": 43,
   "id": "7d979413",
   "metadata": {},
   "outputs": [],
   "source": [
    "# now convert float datatype to int\n",
    "\n",
    "data['csat_score'] = data['csat_score'].astype(int)"
   ]
  },
  {
   "cell_type": "code",
   "execution_count": 46,
   "id": "bd9376db",
   "metadata": {},
   "outputs": [],
   "source": [
    "# Add random csat_score inplace of 0.\n",
    "\n",
    "data['csat_score'] = data['csat_score'].apply(lambda x: np.random.randint(1,10) if x == 0 else x)"
   ]
  },
  {
   "cell_type": "code",
   "execution_count": 54,
   "id": "cd629082",
   "metadata": {},
   "outputs": [
    {
     "data": {
      "text/plain": [
       "0        7\n",
       "1        3\n",
       "2        4\n",
       "3        1\n",
       "4        9\n",
       "        ..\n",
       "32936    8\n",
       "32937    1\n",
       "32938    3\n",
       "32939    8\n",
       "32940    2\n",
       "Name: csat_score, Length: 32941, dtype: int64"
      ]
     },
     "execution_count": 54,
     "metadata": {},
     "output_type": "execute_result"
    }
   ],
   "source": [
    "# let's see the final output\n",
    "\n",
    "data['csat_score']"
   ]
  },
  {
   "cell_type": "markdown",
   "id": "26391a51",
   "metadata": {},
   "source": [
    "* It is cleaned now and we have 32941 records."
   ]
  },
  {
   "cell_type": "markdown",
   "id": "8b231034",
   "metadata": {},
   "source": [
    "###  2). Duplicate Records"
   ]
  },
  {
   "cell_type": "code",
   "execution_count": 162,
   "id": "80d384cb",
   "metadata": {},
   "outputs": [
    {
     "data": {
      "text/plain": [
       "False    32941\n",
       "dtype: int64"
      ]
     },
     "execution_count": 162,
     "metadata": {},
     "output_type": "execute_result"
    }
   ],
   "source": [
    "# Check Duplicate Record in a dataset\n",
    "\n",
    "data.duplicated().value_counts()"
   ]
  },
  {
   "cell_type": "markdown",
   "id": "d4d61e38",
   "metadata": {},
   "source": [
    "* All the records are unique in this datasest"
   ]
  },
  {
   "cell_type": "markdown",
   "id": "312555e9",
   "metadata": {},
   "source": [
    "### 3). Change Datatype\n",
    "\n",
    "In this dataset only 2 fields required change.\n",
    "* csat_score : we have already changed it.\n",
    "* call_timestamp : let's convert it."
   ]
  },
  {
   "cell_type": "code",
   "execution_count": 65,
   "id": "31c2f596",
   "metadata": {},
   "outputs": [],
   "source": [
    "# converting call_timestamp from object to datetime dataype because it is not a string but a date field.\n",
    "\n",
    "data['call_timestamp'] = data['call_timestamp'].astype('datetime64[ns]')"
   ]
  },
  {
   "cell_type": "markdown",
   "id": "6e14969c",
   "metadata": {},
   "source": [
    "### 4). Rename Columns\n",
    "\n",
    "Standardizig column name is necessory for clarity and easiry work flow.\n",
    "so, we will convert\n",
    "* call_timestamp : data\n",
    "* call duration in minutes : call_duration"
   ]
  },
  {
   "cell_type": "code",
   "execution_count": 74,
   "id": "f4a8e573",
   "metadata": {},
   "outputs": [],
   "source": [
    "# Renaming field names\n",
    "\n",
    "data.rename(columns = {'call_timestamp' : 'date', 'call duration in minutes' : 'call_duration'}, inplace = True)"
   ]
  },
  {
   "cell_type": "markdown",
   "id": "d6220ad7",
   "metadata": {},
   "source": [
    "### 5). Eliminate Leading and Trailing Space\n",
    "\n",
    "Sometimes, text fields contais extra spaces before and after, so it's a good practice to make sure that text fields is clean."
   ]
  },
  {
   "cell_type": "markdown",
   "id": "19be79da",
   "metadata": {},
   "source": [
    "First we will split our dataframe to two dataframe text_df and non_text_df. So, that we can remove the extra spaces in all the text columns and then join it to other column of the dataframe to get complete dataframe."
   ]
  },
  {
   "cell_type": "code",
   "execution_count": 90,
   "id": "255eabec",
   "metadata": {},
   "outputs": [],
   "source": [
    "# create dataframe with only text objects\n",
    "\n",
    "text_df = data.select_dtypes(include = 'object')"
   ]
  },
  {
   "cell_type": "code",
   "execution_count": 91,
   "id": "fe059788",
   "metadata": {},
   "outputs": [],
   "source": [
    "# create dataframe with all fields exept text\n",
    "\n",
    "non_text_df = data.select_dtypes(exclude = 'object')"
   ]
  },
  {
   "cell_type": "code",
   "execution_count": 92,
   "id": "2d725452",
   "metadata": {},
   "outputs": [],
   "source": [
    "# remove leading and trailing spaces in all the text fiels\n",
    "\n",
    "text_df = text_df.apply(lambda x: x.str.strip())"
   ]
  },
  {
   "cell_type": "code",
   "execution_count": 184,
   "id": "3e63d006",
   "metadata": {},
   "outputs": [],
   "source": [
    "# assign text_df to new variable so that it will make more sense becasue now we will combine all fields\n",
    "\n",
    "data2 = text_df"
   ]
  },
  {
   "cell_type": "code",
   "execution_count": 185,
   "id": "da161719",
   "metadata": {},
   "outputs": [],
   "source": [
    "data2 = data2.join(non_text_df)"
   ]
  },
  {
   "cell_type": "code",
   "execution_count": 186,
   "id": "220ae413",
   "metadata": {},
   "outputs": [
    {
     "data": {
      "text/html": [
       "<div>\n",
       "<style scoped>\n",
       "    .dataframe tbody tr th:only-of-type {\n",
       "        vertical-align: middle;\n",
       "    }\n",
       "\n",
       "    .dataframe tbody tr th {\n",
       "        vertical-align: top;\n",
       "    }\n",
       "\n",
       "    .dataframe thead th {\n",
       "        text-align: right;\n",
       "    }\n",
       "</style>\n",
       "<table border=\"1\" class=\"dataframe\">\n",
       "  <thead>\n",
       "    <tr style=\"text-align: right;\">\n",
       "      <th></th>\n",
       "      <th>id</th>\n",
       "      <th>customer_name</th>\n",
       "      <th>sentiment</th>\n",
       "      <th>reason</th>\n",
       "      <th>city</th>\n",
       "      <th>state</th>\n",
       "      <th>channel</th>\n",
       "      <th>response_time</th>\n",
       "      <th>call_center</th>\n",
       "      <th>csat_score</th>\n",
       "      <th>date</th>\n",
       "      <th>call_duration</th>\n",
       "    </tr>\n",
       "  </thead>\n",
       "  <tbody>\n",
       "    <tr>\n",
       "      <th>0</th>\n",
       "      <td>DKK-57076809-w-055481-fU</td>\n",
       "      <td>Analise Gairdner</td>\n",
       "      <td>Neutral</td>\n",
       "      <td>Billing Question</td>\n",
       "      <td>Detroit</td>\n",
       "      <td>Michigan</td>\n",
       "      <td>Call-Center</td>\n",
       "      <td>Within SLA</td>\n",
       "      <td>Los Angeles/CA</td>\n",
       "      <td>7</td>\n",
       "      <td>2020-10-29</td>\n",
       "      <td>17</td>\n",
       "    </tr>\n",
       "    <tr>\n",
       "      <th>1</th>\n",
       "      <td>QGK-72219678-w-102139-KY</td>\n",
       "      <td>Crichton Kidsley</td>\n",
       "      <td>Very Positive</td>\n",
       "      <td>Service Outage</td>\n",
       "      <td>Spartanburg</td>\n",
       "      <td>South Carolina</td>\n",
       "      <td>Chatbot</td>\n",
       "      <td>Within SLA</td>\n",
       "      <td>Baltimore/MD</td>\n",
       "      <td>3</td>\n",
       "      <td>2020-10-05</td>\n",
       "      <td>23</td>\n",
       "    </tr>\n",
       "    <tr>\n",
       "      <th>2</th>\n",
       "      <td>GYJ-30025932-A-023015-LD</td>\n",
       "      <td>Averill Brundrett</td>\n",
       "      <td>Negative</td>\n",
       "      <td>Billing Question</td>\n",
       "      <td>Gainesville</td>\n",
       "      <td>Florida</td>\n",
       "      <td>Call-Center</td>\n",
       "      <td>Above SLA</td>\n",
       "      <td>Los Angeles/CA</td>\n",
       "      <td>4</td>\n",
       "      <td>2020-10-04</td>\n",
       "      <td>45</td>\n",
       "    </tr>\n",
       "    <tr>\n",
       "      <th>3</th>\n",
       "      <td>ZJI-96807559-i-620008-m7</td>\n",
       "      <td>Noreen Lafflina</td>\n",
       "      <td>Very Negative</td>\n",
       "      <td>Billing Question</td>\n",
       "      <td>Portland</td>\n",
       "      <td>Oregon</td>\n",
       "      <td>Chatbot</td>\n",
       "      <td>Within SLA</td>\n",
       "      <td>Los Angeles/CA</td>\n",
       "      <td>1</td>\n",
       "      <td>2020-10-17</td>\n",
       "      <td>12</td>\n",
       "    </tr>\n",
       "    <tr>\n",
       "      <th>4</th>\n",
       "      <td>DDU-69451719-O-176482-Fm</td>\n",
       "      <td>Toma Van der Beken</td>\n",
       "      <td>Very Positive</td>\n",
       "      <td>Payments</td>\n",
       "      <td>Fort Wayne</td>\n",
       "      <td>Indiana</td>\n",
       "      <td>Call-Center</td>\n",
       "      <td>Within SLA</td>\n",
       "      <td>Los Angeles/CA</td>\n",
       "      <td>9</td>\n",
       "      <td>2020-10-17</td>\n",
       "      <td>23</td>\n",
       "    </tr>\n",
       "  </tbody>\n",
       "</table>\n",
       "</div>"
      ],
      "text/plain": [
       "                         id       customer_name      sentiment  \\\n",
       "0  DKK-57076809-w-055481-fU    Analise Gairdner        Neutral   \n",
       "1  QGK-72219678-w-102139-KY    Crichton Kidsley  Very Positive   \n",
       "2  GYJ-30025932-A-023015-LD   Averill Brundrett       Negative   \n",
       "3  ZJI-96807559-i-620008-m7     Noreen Lafflina  Very Negative   \n",
       "4  DDU-69451719-O-176482-Fm  Toma Van der Beken  Very Positive   \n",
       "\n",
       "             reason         city           state      channel response_time  \\\n",
       "0  Billing Question      Detroit        Michigan  Call-Center    Within SLA   \n",
       "1    Service Outage  Spartanburg  South Carolina      Chatbot    Within SLA   \n",
       "2  Billing Question  Gainesville         Florida  Call-Center     Above SLA   \n",
       "3  Billing Question     Portland          Oregon      Chatbot    Within SLA   \n",
       "4          Payments   Fort Wayne         Indiana  Call-Center    Within SLA   \n",
       "\n",
       "      call_center  csat_score       date  call_duration  \n",
       "0  Los Angeles/CA           7 2020-10-29             17  \n",
       "1    Baltimore/MD           3 2020-10-05             23  \n",
       "2  Los Angeles/CA           4 2020-10-04             45  \n",
       "3  Los Angeles/CA           1 2020-10-17             12  \n",
       "4  Los Angeles/CA           9 2020-10-17             23  "
      ]
     },
     "execution_count": 186,
     "metadata": {},
     "output_type": "execute_result"
    }
   ],
   "source": [
    "# now we have cleaned text columns in data2 dataframe with all fields. lets check it.\n",
    "\n",
    "data2.head()"
   ]
  },
  {
   "cell_type": "markdown",
   "id": "a7f0de54",
   "metadata": {},
   "source": [
    "### 6). Split Column (call_center)\n",
    "\n",
    "Call_center field has city name and state name. we will seperate in and place it in two diffent fields with their respective name."
   ]
  },
  {
   "cell_type": "code",
   "execution_count": 208,
   "id": "f1e5a532",
   "metadata": {},
   "outputs": [],
   "source": [
    "# split call_center field into two fields\n",
    "\n",
    "data2[['call_center_city', 'call_center_state']] = data2['call_center'].str.split('/', expand = True)"
   ]
  },
  {
   "cell_type": "code",
   "execution_count": 209,
   "id": "d76ac2ce",
   "metadata": {},
   "outputs": [
    {
     "data": {
      "text/html": [
       "<div>\n",
       "<style scoped>\n",
       "    .dataframe tbody tr th:only-of-type {\n",
       "        vertical-align: middle;\n",
       "    }\n",
       "\n",
       "    .dataframe tbody tr th {\n",
       "        vertical-align: top;\n",
       "    }\n",
       "\n",
       "    .dataframe thead th {\n",
       "        text-align: right;\n",
       "    }\n",
       "</style>\n",
       "<table border=\"1\" class=\"dataframe\">\n",
       "  <thead>\n",
       "    <tr style=\"text-align: right;\">\n",
       "      <th></th>\n",
       "      <th>id</th>\n",
       "      <th>customer_name</th>\n",
       "      <th>reason</th>\n",
       "      <th>sentiment</th>\n",
       "      <th>channel</th>\n",
       "      <th>city</th>\n",
       "      <th>state</th>\n",
       "      <th>response_time</th>\n",
       "      <th>call_duration</th>\n",
       "      <th>csat_score</th>\n",
       "      <th>new_date</th>\n",
       "      <th>time</th>\n",
       "      <th>day</th>\n",
       "      <th>month</th>\n",
       "      <th>call_center_city</th>\n",
       "      <th>call_center_state</th>\n",
       "      <th>call_center</th>\n",
       "    </tr>\n",
       "  </thead>\n",
       "  <tbody>\n",
       "    <tr>\n",
       "      <th>0</th>\n",
       "      <td>DKK-57076809-w-055481-fU</td>\n",
       "      <td>Analise Gairdner</td>\n",
       "      <td>Billing Question</td>\n",
       "      <td>Neutral</td>\n",
       "      <td>Call-Center</td>\n",
       "      <td>Detroit</td>\n",
       "      <td>Michigan</td>\n",
       "      <td>Within SLA</td>\n",
       "      <td>17</td>\n",
       "      <td>7</td>\n",
       "      <td>2022-03-01</td>\n",
       "      <td>18:08:23</td>\n",
       "      <td>Tuesday</td>\n",
       "      <td>March</td>\n",
       "      <td>Los Angeles</td>\n",
       "      <td>CA</td>\n",
       "      <td>Los Angeles/CA</td>\n",
       "    </tr>\n",
       "    <tr>\n",
       "      <th>1</th>\n",
       "      <td>QGK-72219678-w-102139-KY</td>\n",
       "      <td>Crichton Kidsley</td>\n",
       "      <td>Service Outage</td>\n",
       "      <td>Very Positive</td>\n",
       "      <td>Chatbot</td>\n",
       "      <td>Spartanburg</td>\n",
       "      <td>South Carolina</td>\n",
       "      <td>Within SLA</td>\n",
       "      <td>23</td>\n",
       "      <td>3</td>\n",
       "      <td>2022-12-28</td>\n",
       "      <td>11:04:02</td>\n",
       "      <td>Wednesday</td>\n",
       "      <td>December</td>\n",
       "      <td>Baltimore</td>\n",
       "      <td>MD</td>\n",
       "      <td>Baltimore/MD</td>\n",
       "    </tr>\n",
       "    <tr>\n",
       "      <th>2</th>\n",
       "      <td>GYJ-30025932-A-023015-LD</td>\n",
       "      <td>Averill Brundrett</td>\n",
       "      <td>Billing Question</td>\n",
       "      <td>Negative</td>\n",
       "      <td>Call-Center</td>\n",
       "      <td>Gainesville</td>\n",
       "      <td>Florida</td>\n",
       "      <td>Above SLA</td>\n",
       "      <td>45</td>\n",
       "      <td>4</td>\n",
       "      <td>2022-02-23</td>\n",
       "      <td>15:18:27</td>\n",
       "      <td>Wednesday</td>\n",
       "      <td>February</td>\n",
       "      <td>Los Angeles</td>\n",
       "      <td>CA</td>\n",
       "      <td>Los Angeles/CA</td>\n",
       "    </tr>\n",
       "    <tr>\n",
       "      <th>3</th>\n",
       "      <td>ZJI-96807559-i-620008-m7</td>\n",
       "      <td>Noreen Lafflina</td>\n",
       "      <td>Billing Question</td>\n",
       "      <td>Very Negative</td>\n",
       "      <td>Chatbot</td>\n",
       "      <td>Portland</td>\n",
       "      <td>Oregon</td>\n",
       "      <td>Within SLA</td>\n",
       "      <td>12</td>\n",
       "      <td>1</td>\n",
       "      <td>2022-07-11</td>\n",
       "      <td>12:34:41</td>\n",
       "      <td>Monday</td>\n",
       "      <td>July</td>\n",
       "      <td>Los Angeles</td>\n",
       "      <td>CA</td>\n",
       "      <td>Los Angeles/CA</td>\n",
       "    </tr>\n",
       "    <tr>\n",
       "      <th>4</th>\n",
       "      <td>DDU-69451719-O-176482-Fm</td>\n",
       "      <td>Toma Van der Beken</td>\n",
       "      <td>Payments</td>\n",
       "      <td>Very Positive</td>\n",
       "      <td>Call-Center</td>\n",
       "      <td>Fort Wayne</td>\n",
       "      <td>Indiana</td>\n",
       "      <td>Within SLA</td>\n",
       "      <td>23</td>\n",
       "      <td>9</td>\n",
       "      <td>2022-08-05</td>\n",
       "      <td>13:36:01</td>\n",
       "      <td>Friday</td>\n",
       "      <td>August</td>\n",
       "      <td>Los Angeles</td>\n",
       "      <td>CA</td>\n",
       "      <td>Los Angeles/CA</td>\n",
       "    </tr>\n",
       "  </tbody>\n",
       "</table>\n",
       "</div>"
      ],
      "text/plain": [
       "                         id       customer_name            reason  \\\n",
       "0  DKK-57076809-w-055481-fU    Analise Gairdner  Billing Question   \n",
       "1  QGK-72219678-w-102139-KY    Crichton Kidsley    Service Outage   \n",
       "2  GYJ-30025932-A-023015-LD   Averill Brundrett  Billing Question   \n",
       "3  ZJI-96807559-i-620008-m7     Noreen Lafflina  Billing Question   \n",
       "4  DDU-69451719-O-176482-Fm  Toma Van der Beken          Payments   \n",
       "\n",
       "       sentiment      channel         city           state response_time  \\\n",
       "0        Neutral  Call-Center      Detroit        Michigan    Within SLA   \n",
       "1  Very Positive      Chatbot  Spartanburg  South Carolina    Within SLA   \n",
       "2       Negative  Call-Center  Gainesville         Florida     Above SLA   \n",
       "3  Very Negative      Chatbot     Portland          Oregon    Within SLA   \n",
       "4  Very Positive  Call-Center   Fort Wayne         Indiana    Within SLA   \n",
       "\n",
       "   call_duration  csat_score   new_date      time        day     month  \\\n",
       "0             17           7 2022-03-01  18:08:23    Tuesday     March   \n",
       "1             23           3 2022-12-28  11:04:02  Wednesday  December   \n",
       "2             45           4 2022-02-23  15:18:27  Wednesday  February   \n",
       "3             12           1 2022-07-11  12:34:41     Monday      July   \n",
       "4             23           9 2022-08-05  13:36:01     Friday    August   \n",
       "\n",
       "  call_center_city call_center_state     call_center  \n",
       "0      Los Angeles                CA  Los Angeles/CA  \n",
       "1        Baltimore                MD    Baltimore/MD  \n",
       "2      Los Angeles                CA  Los Angeles/CA  \n",
       "3      Los Angeles                CA  Los Angeles/CA  \n",
       "4      Los Angeles                CA  Los Angeles/CA  "
      ]
     },
     "execution_count": 209,
     "metadata": {},
     "output_type": "execute_result"
    }
   ],
   "source": [
    "# let's see the result\n",
    "\n",
    "data2.head()"
   ]
  },
  {
   "cell_type": "markdown",
   "id": "ef72499a",
   "metadata": {},
   "source": [
    "# B). Data Processing"
   ]
  },
  {
   "cell_type": "markdown",
   "id": "cd49fd45",
   "metadata": {},
   "source": [
    "### a). Random Date and Time"
   ]
  },
  {
   "cell_type": "markdown",
   "id": "1eaab656",
   "metadata": {},
   "source": [
    "In this dummy dataset we have date field which only include october month of 2020 and it doesn't have time also. So, for this project purpose I am adding new date field which will include only business days from jan,2022 to dec,2022 and time from 10:00 am to 8:00 pm."
   ]
  },
  {
   "cell_type": "code",
   "execution_count": 191,
   "id": "77308ef1",
   "metadata": {},
   "outputs": [],
   "source": [
    "# create business date (monday to friday) between jan,2022 to dec,2022. \n",
    "\n",
    "date_range = pd.date_range(start='2022-01-01', end= '2022-12-31', freq= 'B')"
   ]
  },
  {
   "cell_type": "code",
   "execution_count": 192,
   "id": "89decb89",
   "metadata": {},
   "outputs": [],
   "source": [
    "# add random date to dataframe.\n",
    "\n",
    "data2['new_date'] = np.random.choice(date_range, size = len(data2), replace = True)"
   ]
  },
  {
   "cell_type": "code",
   "execution_count": 193,
   "id": "f9a9281b",
   "metadata": {},
   "outputs": [],
   "source": [
    "# create time range between 10:00 am to 8:00 pm\n",
    "\n",
    "time_range = pd.date_range(start = '2022-01-01 10:00:00', end= '2022-01-01 20:00:00', freq='s').strftime('%H:%M:%S')"
   ]
  },
  {
   "cell_type": "code",
   "execution_count": 194,
   "id": "05442a17",
   "metadata": {},
   "outputs": [],
   "source": [
    "# add random time to datafrome\n",
    "\n",
    "data2['time'] = np.random.choice(time_range, len(data2), replace = True)"
   ]
  },
  {
   "cell_type": "code",
   "execution_count": 195,
   "id": "01bcdeb6",
   "metadata": {},
   "outputs": [
    {
     "data": {
      "text/html": [
       "<div>\n",
       "<style scoped>\n",
       "    .dataframe tbody tr th:only-of-type {\n",
       "        vertical-align: middle;\n",
       "    }\n",
       "\n",
       "    .dataframe tbody tr th {\n",
       "        vertical-align: top;\n",
       "    }\n",
       "\n",
       "    .dataframe thead th {\n",
       "        text-align: right;\n",
       "    }\n",
       "</style>\n",
       "<table border=\"1\" class=\"dataframe\">\n",
       "  <thead>\n",
       "    <tr style=\"text-align: right;\">\n",
       "      <th></th>\n",
       "      <th>new_date</th>\n",
       "      <th>time</th>\n",
       "    </tr>\n",
       "  </thead>\n",
       "  <tbody>\n",
       "    <tr>\n",
       "      <th>0</th>\n",
       "      <td>2022-03-01</td>\n",
       "      <td>18:08:23</td>\n",
       "    </tr>\n",
       "    <tr>\n",
       "      <th>1</th>\n",
       "      <td>2022-12-28</td>\n",
       "      <td>11:04:02</td>\n",
       "    </tr>\n",
       "    <tr>\n",
       "      <th>2</th>\n",
       "      <td>2022-02-23</td>\n",
       "      <td>15:18:27</td>\n",
       "    </tr>\n",
       "    <tr>\n",
       "      <th>3</th>\n",
       "      <td>2022-07-11</td>\n",
       "      <td>12:34:41</td>\n",
       "    </tr>\n",
       "    <tr>\n",
       "      <th>4</th>\n",
       "      <td>2022-08-05</td>\n",
       "      <td>13:36:01</td>\n",
       "    </tr>\n",
       "  </tbody>\n",
       "</table>\n",
       "</div>"
      ],
      "text/plain": [
       "    new_date      time\n",
       "0 2022-03-01  18:08:23\n",
       "1 2022-12-28  11:04:02\n",
       "2 2022-02-23  15:18:27\n",
       "3 2022-07-11  12:34:41\n",
       "4 2022-08-05  13:36:01"
      ]
     },
     "execution_count": 195,
     "metadata": {},
     "output_type": "execute_result"
    }
   ],
   "source": [
    "# result\n",
    "\n",
    "data2[['new_date','time']].head()"
   ]
  },
  {
   "cell_type": "markdown",
   "id": "874f05bf",
   "metadata": {},
   "source": [
    "### b). Day and Month name\n",
    "\n",
    "We will extract day name and month name from new_date field."
   ]
  },
  {
   "cell_type": "code",
   "execution_count": 196,
   "id": "16e3b54f",
   "metadata": {},
   "outputs": [],
   "source": [
    "# Generate day name\n",
    "\n",
    "data2['day'] = data2['new_date'].dt.day_name()"
   ]
  },
  {
   "cell_type": "code",
   "execution_count": 197,
   "id": "4169d2ed",
   "metadata": {},
   "outputs": [],
   "source": [
    "# Generate month name\n",
    "\n",
    "data2['month'] = data2['new_date'].dt.month_name()"
   ]
  },
  {
   "cell_type": "code",
   "execution_count": 210,
   "id": "b25fdf0a",
   "metadata": {},
   "outputs": [
    {
     "data": {
      "text/html": [
       "<div>\n",
       "<style scoped>\n",
       "    .dataframe tbody tr th:only-of-type {\n",
       "        vertical-align: middle;\n",
       "    }\n",
       "\n",
       "    .dataframe tbody tr th {\n",
       "        vertical-align: top;\n",
       "    }\n",
       "\n",
       "    .dataframe thead th {\n",
       "        text-align: right;\n",
       "    }\n",
       "</style>\n",
       "<table border=\"1\" class=\"dataframe\">\n",
       "  <thead>\n",
       "    <tr style=\"text-align: right;\">\n",
       "      <th></th>\n",
       "      <th>id</th>\n",
       "      <th>customer_name</th>\n",
       "      <th>reason</th>\n",
       "      <th>sentiment</th>\n",
       "      <th>channel</th>\n",
       "      <th>city</th>\n",
       "      <th>state</th>\n",
       "      <th>response_time</th>\n",
       "      <th>call_duration</th>\n",
       "      <th>csat_score</th>\n",
       "      <th>new_date</th>\n",
       "      <th>time</th>\n",
       "      <th>day</th>\n",
       "      <th>month</th>\n",
       "      <th>call_center_city</th>\n",
       "      <th>call_center_state</th>\n",
       "      <th>call_center</th>\n",
       "    </tr>\n",
       "  </thead>\n",
       "  <tbody>\n",
       "    <tr>\n",
       "      <th>0</th>\n",
       "      <td>DKK-57076809-w-055481-fU</td>\n",
       "      <td>Analise Gairdner</td>\n",
       "      <td>Billing Question</td>\n",
       "      <td>Neutral</td>\n",
       "      <td>Call-Center</td>\n",
       "      <td>Detroit</td>\n",
       "      <td>Michigan</td>\n",
       "      <td>Within SLA</td>\n",
       "      <td>17</td>\n",
       "      <td>7</td>\n",
       "      <td>2022-03-01</td>\n",
       "      <td>18:08:23</td>\n",
       "      <td>Tuesday</td>\n",
       "      <td>March</td>\n",
       "      <td>Los Angeles</td>\n",
       "      <td>CA</td>\n",
       "      <td>Los Angeles/CA</td>\n",
       "    </tr>\n",
       "    <tr>\n",
       "      <th>1</th>\n",
       "      <td>QGK-72219678-w-102139-KY</td>\n",
       "      <td>Crichton Kidsley</td>\n",
       "      <td>Service Outage</td>\n",
       "      <td>Very Positive</td>\n",
       "      <td>Chatbot</td>\n",
       "      <td>Spartanburg</td>\n",
       "      <td>South Carolina</td>\n",
       "      <td>Within SLA</td>\n",
       "      <td>23</td>\n",
       "      <td>3</td>\n",
       "      <td>2022-12-28</td>\n",
       "      <td>11:04:02</td>\n",
       "      <td>Wednesday</td>\n",
       "      <td>December</td>\n",
       "      <td>Baltimore</td>\n",
       "      <td>MD</td>\n",
       "      <td>Baltimore/MD</td>\n",
       "    </tr>\n",
       "    <tr>\n",
       "      <th>2</th>\n",
       "      <td>GYJ-30025932-A-023015-LD</td>\n",
       "      <td>Averill Brundrett</td>\n",
       "      <td>Billing Question</td>\n",
       "      <td>Negative</td>\n",
       "      <td>Call-Center</td>\n",
       "      <td>Gainesville</td>\n",
       "      <td>Florida</td>\n",
       "      <td>Above SLA</td>\n",
       "      <td>45</td>\n",
       "      <td>4</td>\n",
       "      <td>2022-02-23</td>\n",
       "      <td>15:18:27</td>\n",
       "      <td>Wednesday</td>\n",
       "      <td>February</td>\n",
       "      <td>Los Angeles</td>\n",
       "      <td>CA</td>\n",
       "      <td>Los Angeles/CA</td>\n",
       "    </tr>\n",
       "  </tbody>\n",
       "</table>\n",
       "</div>"
      ],
      "text/plain": [
       "                         id      customer_name            reason  \\\n",
       "0  DKK-57076809-w-055481-fU   Analise Gairdner  Billing Question   \n",
       "1  QGK-72219678-w-102139-KY   Crichton Kidsley    Service Outage   \n",
       "2  GYJ-30025932-A-023015-LD  Averill Brundrett  Billing Question   \n",
       "\n",
       "       sentiment      channel         city           state response_time  \\\n",
       "0        Neutral  Call-Center      Detroit        Michigan    Within SLA   \n",
       "1  Very Positive      Chatbot  Spartanburg  South Carolina    Within SLA   \n",
       "2       Negative  Call-Center  Gainesville         Florida     Above SLA   \n",
       "\n",
       "   call_duration  csat_score   new_date      time        day     month  \\\n",
       "0             17           7 2022-03-01  18:08:23    Tuesday     March   \n",
       "1             23           3 2022-12-28  11:04:02  Wednesday  December   \n",
       "2             45           4 2022-02-23  15:18:27  Wednesday  February   \n",
       "\n",
       "  call_center_city call_center_state     call_center  \n",
       "0      Los Angeles                CA  Los Angeles/CA  \n",
       "1        Baltimore                MD    Baltimore/MD  \n",
       "2      Los Angeles                CA  Los Angeles/CA  "
      ]
     },
     "execution_count": 210,
     "metadata": {},
     "output_type": "execute_result"
    }
   ],
   "source": [
    "data2.head(3)"
   ]
  },
  {
   "cell_type": "markdown",
   "id": "f1a023ff",
   "metadata": {},
   "source": [
    "### c). Drop Irrelevent  Columns\n",
    "\n",
    "We will drop date and call_center column because we have updated it."
   ]
  },
  {
   "cell_type": "code",
   "execution_count": 214,
   "id": "28b38152",
   "metadata": {},
   "outputs": [],
   "source": [
    "data2.drop(columns = ['date', 'call_center'], axis = 1, inplace = True)"
   ]
  },
  {
   "cell_type": "markdown",
   "id": "d809f49d",
   "metadata": {},
   "source": [
    "### d). Rearrange Columns"
   ]
  },
  {
   "cell_type": "code",
   "execution_count": 216,
   "id": "58afc125",
   "metadata": {},
   "outputs": [],
   "source": [
    "data2 = data2.reindex(columns = ['id', 'customer_name', 'reason', 'sentiment','channel', 'city', 'state', 'response_time', \n",
    "                       'call_duration','csat_score', 'new_date', 'time','day','month', 'call_center_city', \n",
    "                       'call_center_state'])"
   ]
  },
  {
   "cell_type": "markdown",
   "id": "035338c6",
   "metadata": {},
   "source": [
    "# C). Cleaned Data\n",
    "\n",
    "let's see our cleaned dataset"
   ]
  },
  {
   "cell_type": "code",
   "execution_count": 221,
   "id": "17c43e4b",
   "metadata": {},
   "outputs": [
    {
     "data": {
      "text/html": [
       "<div>\n",
       "<style scoped>\n",
       "    .dataframe tbody tr th:only-of-type {\n",
       "        vertical-align: middle;\n",
       "    }\n",
       "\n",
       "    .dataframe tbody tr th {\n",
       "        vertical-align: top;\n",
       "    }\n",
       "\n",
       "    .dataframe thead th {\n",
       "        text-align: right;\n",
       "    }\n",
       "</style>\n",
       "<table border=\"1\" class=\"dataframe\">\n",
       "  <thead>\n",
       "    <tr style=\"text-align: right;\">\n",
       "      <th></th>\n",
       "      <th>id</th>\n",
       "      <th>customer_name</th>\n",
       "      <th>reason</th>\n",
       "      <th>sentiment</th>\n",
       "      <th>channel</th>\n",
       "      <th>city</th>\n",
       "      <th>state</th>\n",
       "      <th>response_time</th>\n",
       "      <th>call_duration</th>\n",
       "      <th>csat_score</th>\n",
       "      <th>new_date</th>\n",
       "      <th>time</th>\n",
       "      <th>day</th>\n",
       "      <th>month</th>\n",
       "      <th>call_center_city</th>\n",
       "      <th>call_center_state</th>\n",
       "    </tr>\n",
       "  </thead>\n",
       "  <tbody>\n",
       "    <tr>\n",
       "      <th>0</th>\n",
       "      <td>DKK-57076809-w-055481-fU</td>\n",
       "      <td>Analise Gairdner</td>\n",
       "      <td>Billing Question</td>\n",
       "      <td>Neutral</td>\n",
       "      <td>Call-Center</td>\n",
       "      <td>Detroit</td>\n",
       "      <td>Michigan</td>\n",
       "      <td>Within SLA</td>\n",
       "      <td>17</td>\n",
       "      <td>7</td>\n",
       "      <td>2022-03-01</td>\n",
       "      <td>18:08:23</td>\n",
       "      <td>Tuesday</td>\n",
       "      <td>March</td>\n",
       "      <td>Los Angeles</td>\n",
       "      <td>CA</td>\n",
       "    </tr>\n",
       "    <tr>\n",
       "      <th>1</th>\n",
       "      <td>QGK-72219678-w-102139-KY</td>\n",
       "      <td>Crichton Kidsley</td>\n",
       "      <td>Service Outage</td>\n",
       "      <td>Very Positive</td>\n",
       "      <td>Chatbot</td>\n",
       "      <td>Spartanburg</td>\n",
       "      <td>South Carolina</td>\n",
       "      <td>Within SLA</td>\n",
       "      <td>23</td>\n",
       "      <td>3</td>\n",
       "      <td>2022-12-28</td>\n",
       "      <td>11:04:02</td>\n",
       "      <td>Wednesday</td>\n",
       "      <td>December</td>\n",
       "      <td>Baltimore</td>\n",
       "      <td>MD</td>\n",
       "    </tr>\n",
       "    <tr>\n",
       "      <th>2</th>\n",
       "      <td>GYJ-30025932-A-023015-LD</td>\n",
       "      <td>Averill Brundrett</td>\n",
       "      <td>Billing Question</td>\n",
       "      <td>Negative</td>\n",
       "      <td>Call-Center</td>\n",
       "      <td>Gainesville</td>\n",
       "      <td>Florida</td>\n",
       "      <td>Above SLA</td>\n",
       "      <td>45</td>\n",
       "      <td>4</td>\n",
       "      <td>2022-02-23</td>\n",
       "      <td>15:18:27</td>\n",
       "      <td>Wednesday</td>\n",
       "      <td>February</td>\n",
       "      <td>Los Angeles</td>\n",
       "      <td>CA</td>\n",
       "    </tr>\n",
       "    <tr>\n",
       "      <th>3</th>\n",
       "      <td>ZJI-96807559-i-620008-m7</td>\n",
       "      <td>Noreen Lafflina</td>\n",
       "      <td>Billing Question</td>\n",
       "      <td>Very Negative</td>\n",
       "      <td>Chatbot</td>\n",
       "      <td>Portland</td>\n",
       "      <td>Oregon</td>\n",
       "      <td>Within SLA</td>\n",
       "      <td>12</td>\n",
       "      <td>1</td>\n",
       "      <td>2022-07-11</td>\n",
       "      <td>12:34:41</td>\n",
       "      <td>Monday</td>\n",
       "      <td>July</td>\n",
       "      <td>Los Angeles</td>\n",
       "      <td>CA</td>\n",
       "    </tr>\n",
       "    <tr>\n",
       "      <th>4</th>\n",
       "      <td>DDU-69451719-O-176482-Fm</td>\n",
       "      <td>Toma Van der Beken</td>\n",
       "      <td>Payments</td>\n",
       "      <td>Very Positive</td>\n",
       "      <td>Call-Center</td>\n",
       "      <td>Fort Wayne</td>\n",
       "      <td>Indiana</td>\n",
       "      <td>Within SLA</td>\n",
       "      <td>23</td>\n",
       "      <td>9</td>\n",
       "      <td>2022-08-05</td>\n",
       "      <td>13:36:01</td>\n",
       "      <td>Friday</td>\n",
       "      <td>August</td>\n",
       "      <td>Los Angeles</td>\n",
       "      <td>CA</td>\n",
       "    </tr>\n",
       "  </tbody>\n",
       "</table>\n",
       "</div>"
      ],
      "text/plain": [
       "                         id       customer_name            reason  \\\n",
       "0  DKK-57076809-w-055481-fU    Analise Gairdner  Billing Question   \n",
       "1  QGK-72219678-w-102139-KY    Crichton Kidsley    Service Outage   \n",
       "2  GYJ-30025932-A-023015-LD   Averill Brundrett  Billing Question   \n",
       "3  ZJI-96807559-i-620008-m7     Noreen Lafflina  Billing Question   \n",
       "4  DDU-69451719-O-176482-Fm  Toma Van der Beken          Payments   \n",
       "\n",
       "       sentiment      channel         city           state response_time  \\\n",
       "0        Neutral  Call-Center      Detroit        Michigan    Within SLA   \n",
       "1  Very Positive      Chatbot  Spartanburg  South Carolina    Within SLA   \n",
       "2       Negative  Call-Center  Gainesville         Florida     Above SLA   \n",
       "3  Very Negative      Chatbot     Portland          Oregon    Within SLA   \n",
       "4  Very Positive  Call-Center   Fort Wayne         Indiana    Within SLA   \n",
       "\n",
       "   call_duration  csat_score   new_date      time        day     month  \\\n",
       "0             17           7 2022-03-01  18:08:23    Tuesday     March   \n",
       "1             23           3 2022-12-28  11:04:02  Wednesday  December   \n",
       "2             45           4 2022-02-23  15:18:27  Wednesday  February   \n",
       "3             12           1 2022-07-11  12:34:41     Monday      July   \n",
       "4             23           9 2022-08-05  13:36:01     Friday    August   \n",
       "\n",
       "  call_center_city call_center_state  \n",
       "0      Los Angeles                CA  \n",
       "1        Baltimore                MD  \n",
       "2      Los Angeles                CA  \n",
       "3      Los Angeles                CA  \n",
       "4      Los Angeles                CA  "
      ]
     },
     "execution_count": 221,
     "metadata": {},
     "output_type": "execute_result"
    }
   ],
   "source": [
    "data2.head()"
   ]
  },
  {
   "cell_type": "markdown",
   "id": "a16d683e",
   "metadata": {},
   "source": [
    "# D). File Export\n",
    "\n",
    "Now, our dataset is cleaned and ready for further analysis. I am exporting in csv and xlsx format."
   ]
  },
  {
   "cell_type": "code",
   "execution_count": 220,
   "id": "b96d7983",
   "metadata": {},
   "outputs": [],
   "source": [
    "# export this dataset in csv and xlsx format.\n",
    "\n",
    "data2.to_csv('customer_data.csv', index = False)\n",
    "data2.to_excel('customer_data.xlsx', index = False)"
   ]
  }
 ],
 "metadata": {
  "kernelspec": {
   "display_name": "Python 3 (ipykernel)",
   "language": "python",
   "name": "python3"
  },
  "language_info": {
   "codemirror_mode": {
    "name": "ipython",
    "version": 3
   },
   "file_extension": ".py",
   "mimetype": "text/x-python",
   "name": "python",
   "nbconvert_exporter": "python",
   "pygments_lexer": "ipython3",
   "version": "3.10.9"
  }
 },
 "nbformat": 4,
 "nbformat_minor": 5
}
